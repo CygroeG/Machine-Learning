# Lineare Regression in Python

# Teil 1: Importieren der notwendigen Bibliotheken
import numpy as np
import pandas as pd
import matplotlib.pyplot as plt
from sklearn.model_selection import train_test_split
from sklearn.linear_model import LinearRegression
from sklearn.metrics import mean_squared_error, r2_score

# Teil 2: Erstellen des Datensatzes
data = {
    'Size': [50, 60, 70, 80, 90, 100, 110],
    'Price': [150, 180, 210, 240, 270, 300, 330]
}

# Erstellen eines DataFrames
df = pd.DataFrame(data)

# Teil 3: Datenvorbereitung
X = df[['Size']]  # Merkmale
y = df['Price']   # Zielvariable

# Aufteilen der Daten in Trainings- und Testdatensatz
X_train, X_test, y_train, y_test = train_test_split(X, y, test_size=0.3, random_state=42)

# Teil 4: Modell erstellen und trainieren
model = LinearRegression()
model.fit(X_train, y_train)

# Teil 5: Modellbewertung
# Vorhersagen auf den Testdaten
y_pred = model.predict(X_test)

# Berechnung der Leistungsmetriken
mse = mean_squared_error(y_test, y_pred)
r2 = r2_score(y_test, y_pred)

print(f"Mittlere quadratische Abweichung (MSE): {mse:.2f}")
print(f"Bestimmtheitsmaß (m²): {r2:.2f}")

# Visualisierung der Regressionslinie
plt.scatter(X, y, color='blue', label='Datenpunkte')
plt.plot(X, model.predict(X), color='red', linewidth=2, label='Regressionslinie')
plt.title('Größe vs. Preis')
plt.xlabel('Größe (m²)')
plt.ylabel('Preis (Tsd. Euro)')
plt.legend()
plt.show()

# Teil 6: Modellanwendung
def predict_price(size):
    return model.predict(np.array([[size]]))[0]

# Beispielvorhersage
example_size = 85
predicted_price = predict_price(example_size)
print(f"Vorhergesagter Preis für ein Haus mit {example_size} m²: {predicted_price:.2f} Tsd. Euro")
